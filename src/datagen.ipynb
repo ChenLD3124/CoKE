{
 "cells": [
  {
   "cell_type": "code",
   "execution_count": 15,
   "metadata": {},
   "outputs": [
    {
     "name": "stdout",
     "output_type": "stream",
     "text": [
      "The autoreload extension is already loaded. To reload it, use:\n",
      "  %reload_ext autoreload\n"
     ]
    }
   ],
   "source": [
    "%load_ext autoreload\n",
    "%autoreload 2"
   ]
  },
  {
   "cell_type": "code",
   "execution_count": 29,
   "metadata": {},
   "outputs": [],
   "source": [
    "from utils.data import *\n",
    "from utils.method import *\n",
    "from utils.myconfig import model_path"
   ]
  },
  {
   "cell_type": "code",
   "execution_count": 36,
   "metadata": {},
   "outputs": [],
   "source": [
    "df=pd.read_json('data/pop-test_preds.json')"
   ]
  },
  {
   "cell_type": "code",
   "execution_count": null,
   "metadata": {},
   "outputs": [],
   "source": [
    "#trivia: 0.452 nq: 0.166 popQ: 0.217"
   ]
  },
  {
   "cell_type": "code",
   "execution_count": 37,
   "metadata": {},
   "outputs": [
    {
     "data": {
      "text/html": [
       "<div>\n",
       "<style scoped>\n",
       "    .dataframe tbody tr th:only-of-type {\n",
       "        vertical-align: middle;\n",
       "    }\n",
       "\n",
       "    .dataframe tbody tr th {\n",
       "        vertical-align: top;\n",
       "    }\n",
       "\n",
       "    .dataframe thead th {\n",
       "        text-align: right;\n",
       "    }\n",
       "</style>\n",
       "<table border=\"1\" class=\"dataframe\">\n",
       "  <thead>\n",
       "    <tr style=\"text-align: right;\">\n",
       "      <th></th>\n",
       "      <th>know</th>\n",
       "      <th>unknow</th>\n",
       "    </tr>\n",
       "  </thead>\n",
       "  <tbody>\n",
       "    <tr>\n",
       "      <th>count</th>\n",
       "      <td>2000.000000</td>\n",
       "      <td>2000.000000</td>\n",
       "    </tr>\n",
       "    <tr>\n",
       "      <th>mean</th>\n",
       "      <td>0.216500</td>\n",
       "      <td>0.783500</td>\n",
       "    </tr>\n",
       "    <tr>\n",
       "      <th>std</th>\n",
       "      <td>0.411962</td>\n",
       "      <td>0.411962</td>\n",
       "    </tr>\n",
       "    <tr>\n",
       "      <th>min</th>\n",
       "      <td>0.000000</td>\n",
       "      <td>0.000000</td>\n",
       "    </tr>\n",
       "    <tr>\n",
       "      <th>25%</th>\n",
       "      <td>0.000000</td>\n",
       "      <td>1.000000</td>\n",
       "    </tr>\n",
       "    <tr>\n",
       "      <th>50%</th>\n",
       "      <td>0.000000</td>\n",
       "      <td>1.000000</td>\n",
       "    </tr>\n",
       "    <tr>\n",
       "      <th>75%</th>\n",
       "      <td>0.000000</td>\n",
       "      <td>1.000000</td>\n",
       "    </tr>\n",
       "    <tr>\n",
       "      <th>max</th>\n",
       "      <td>1.000000</td>\n",
       "      <td>1.000000</td>\n",
       "    </tr>\n",
       "  </tbody>\n",
       "</table>\n",
       "</div>"
      ],
      "text/plain": [
       "              know       unknow\n",
       "count  2000.000000  2000.000000\n",
       "mean      0.216500     0.783500\n",
       "std       0.411962     0.411962\n",
       "min       0.000000     0.000000\n",
       "25%       0.000000     1.000000\n",
       "50%       0.000000     1.000000\n",
       "75%       0.000000     1.000000\n",
       "max       1.000000     1.000000"
      ]
     },
     "execution_count": 37,
     "metadata": {},
     "output_type": "execute_result"
    }
   ],
   "source": [
    "df=cal_know_unknow(df)\n",
    "df.describe()"
   ]
  },
  {
   "cell_type": "code",
   "execution_count": 44,
   "metadata": {},
   "outputs": [],
   "source": [
    "df=cal_know_unknow(df)"
   ]
  },
  {
   "cell_type": "code",
   "execution_count": 45,
   "metadata": {},
   "outputs": [
    {
     "data": {
      "text/html": [
       "<div>\n",
       "<style scoped>\n",
       "    .dataframe tbody tr th:only-of-type {\n",
       "        vertical-align: middle;\n",
       "    }\n",
       "\n",
       "    .dataframe tbody tr th {\n",
       "        vertical-align: top;\n",
       "    }\n",
       "\n",
       "    .dataframe thead th {\n",
       "        text-align: right;\n",
       "    }\n",
       "</style>\n",
       "<table border=\"1\" class=\"dataframe\">\n",
       "  <thead>\n",
       "    <tr style=\"text-align: right;\">\n",
       "      <th></th>\n",
       "      <th>know</th>\n",
       "      <th>unknow</th>\n",
       "    </tr>\n",
       "  </thead>\n",
       "  <tbody>\n",
       "    <tr>\n",
       "      <th>count</th>\n",
       "      <td>2000.000000</td>\n",
       "      <td>2000.000000</td>\n",
       "    </tr>\n",
       "    <tr>\n",
       "      <th>mean</th>\n",
       "      <td>0.216500</td>\n",
       "      <td>0.783500</td>\n",
       "    </tr>\n",
       "    <tr>\n",
       "      <th>std</th>\n",
       "      <td>0.411962</td>\n",
       "      <td>0.411962</td>\n",
       "    </tr>\n",
       "    <tr>\n",
       "      <th>min</th>\n",
       "      <td>0.000000</td>\n",
       "      <td>0.000000</td>\n",
       "    </tr>\n",
       "    <tr>\n",
       "      <th>25%</th>\n",
       "      <td>0.000000</td>\n",
       "      <td>1.000000</td>\n",
       "    </tr>\n",
       "    <tr>\n",
       "      <th>50%</th>\n",
       "      <td>0.000000</td>\n",
       "      <td>1.000000</td>\n",
       "    </tr>\n",
       "    <tr>\n",
       "      <th>75%</th>\n",
       "      <td>0.000000</td>\n",
       "      <td>1.000000</td>\n",
       "    </tr>\n",
       "    <tr>\n",
       "      <th>max</th>\n",
       "      <td>1.000000</td>\n",
       "      <td>1.000000</td>\n",
       "    </tr>\n",
       "  </tbody>\n",
       "</table>\n",
       "</div>"
      ],
      "text/plain": [
       "              know       unknow\n",
       "count  2000.000000  2000.000000\n",
       "mean      0.216500     0.783500\n",
       "std       0.411962     0.411962\n",
       "min       0.000000     0.000000\n",
       "25%       0.000000     1.000000\n",
       "50%       0.000000     1.000000\n",
       "75%       0.000000     1.000000\n",
       "max       1.000000     1.000000"
      ]
     },
     "execution_count": 45,
     "metadata": {},
     "output_type": "execute_result"
    }
   ],
   "source": [
    "df.describe()"
   ]
  },
  {
   "cell_type": "code",
   "execution_count": 46,
   "metadata": {},
   "outputs": [
    {
     "data": {
      "text/html": [
       "<div>\n",
       "<style scoped>\n",
       "    .dataframe tbody tr th:only-of-type {\n",
       "        vertical-align: middle;\n",
       "    }\n",
       "\n",
       "    .dataframe tbody tr th {\n",
       "        vertical-align: top;\n",
       "    }\n",
       "\n",
       "    .dataframe thead th {\n",
       "        text-align: right;\n",
       "    }\n",
       "</style>\n",
       "<table border=\"1\" class=\"dataframe\">\n",
       "  <thead>\n",
       "    <tr style=\"text-align: right;\">\n",
       "      <th></th>\n",
       "      <th>q</th>\n",
       "      <th>a</th>\n",
       "      <th>pred</th>\n",
       "      <th>pred_probs</th>\n",
       "      <th>pred_gen</th>\n",
       "      <th>know</th>\n",
       "      <th>unknow</th>\n",
       "    </tr>\n",
       "  </thead>\n",
       "  <tbody>\n",
       "    <tr>\n",
       "      <th>169</th>\n",
       "      <td>What is the capital of Niger State?</td>\n",
       "      <td>[Minna]</td>\n",
       "      <td>Abuja</td>\n",
       "      <td>[0.9738988876, 0.9999606609, 0.999994993200000...</td>\n",
       "      <td>[1976, 29884, 1764, 2, 2, 2, 2, 2, 2, 2, 2, 2,...</td>\n",
       "      <td>0</td>\n",
       "      <td>1</td>\n",
       "    </tr>\n",
       "    <tr>\n",
       "      <th>376</th>\n",
       "      <td>Who was the director of The Call of the North?</td>\n",
       "      <td>[Joseph Henabery]</td>\n",
       "      <td>John Carpenter</td>\n",
       "      <td>[0.7305594683000001, 0.5430291295, 0.846736371...</td>\n",
       "      <td>[2259, 1704, 29886, 5893, 2, 2, 2, 2, 2, 2, 2,...</td>\n",
       "      <td>0</td>\n",
       "      <td>1</td>\n",
       "    </tr>\n",
       "    <tr>\n",
       "      <th>177</th>\n",
       "      <td>Who is the author of STORI Telling?</td>\n",
       "      <td>[Tori Spelling, Victoria Davey Spelling]</td>\n",
       "      <td>Anita Brookner</td>\n",
       "      <td>[0.16245928410000002, 0.6809843183000001, 0.53...</td>\n",
       "      <td>[530, 2028, 18737, 1089, 2, 2, 2, 2, 2, 2, 2, ...</td>\n",
       "      <td>0</td>\n",
       "      <td>1</td>\n",
       "    </tr>\n",
       "    <tr>\n",
       "      <th>25</th>\n",
       "      <td>What genre is The Profit?</td>\n",
       "      <td>[reality television, reality TV, reality telev...</td>\n",
       "      <td>Business</td>\n",
       "      <td>[0.7998253107000001, 0.9574128389000001, 0.922...</td>\n",
       "      <td>[15197, 2, 2, 2, 2, 2, 2, 2, 2, 2, 2, 2, 2, 2, 2]</td>\n",
       "      <td>0</td>\n",
       "      <td>1</td>\n",
       "    </tr>\n",
       "    <tr>\n",
       "      <th>1545</th>\n",
       "      <td>What is Alexander Rinnooy Kan's occupation?</td>\n",
       "      <td>[mathematician, economist, economists]</td>\n",
       "      <td>Professor</td>\n",
       "      <td>[0.4283296764, 0.9989406466, 0.5480271578, 0.9...</td>\n",
       "      <td>[11386, 2, 2, 2, 2, 2, 2, 2, 2, 2, 2, 2, 2, 2, 2]</td>\n",
       "      <td>0</td>\n",
       "      <td>1</td>\n",
       "    </tr>\n",
       "    <tr>\n",
       "      <th>172</th>\n",
       "      <td>Who is the author of Son?</td>\n",
       "      <td>[Lois Lowry, Lois Ann Hammersberg, Lois James ...</td>\n",
       "      <td>Leonardo DiCaprio</td>\n",
       "      <td>[0.2429920137, 0.9801318049000001, 0.947808742...</td>\n",
       "      <td>[10255, 6491, 4671, 12415, 5378, 2, 2, 2, 2, 2...</td>\n",
       "      <td>0</td>\n",
       "      <td>1</td>\n",
       "    </tr>\n",
       "    <tr>\n",
       "      <th>24</th>\n",
       "      <td>Who was the screenwriter for Run?</td>\n",
       "      <td>[N. Lingusamy]</td>\n",
       "      <td>Chadwick Palin</td>\n",
       "      <td>[0.6224936247, 0.3026275337, 0.2437361032, 0.2...</td>\n",
       "      <td>[678, 328, 6669, 3793, 262, 2, 2, 2, 2, 2, 2, ...</td>\n",
       "      <td>0</td>\n",
       "      <td>1</td>\n",
       "    </tr>\n",
       "    <tr>\n",
       "      <th>270</th>\n",
       "      <td>Who was the director of The Express?</td>\n",
       "      <td>[Gary Fleder]</td>\n",
       "      <td>N/A</td>\n",
       "      <td>[0.2167109251, 0.6845143437, 0.5524267554, 0.9...</td>\n",
       "      <td>[405, 29914, 29909, 2, 2, 2, 2, 2, 2, 2, 2, 2,...</td>\n",
       "      <td>0</td>\n",
       "      <td>1</td>\n",
       "    </tr>\n",
       "    <tr>\n",
       "      <th>1943</th>\n",
       "      <td>Who was the screenwriter for Amateur?</td>\n",
       "      <td>[Hal Hartley]</td>\n",
       "      <td>Michael Tolkin</td>\n",
       "      <td>[0.1343306601, 0.2178176045, 0.9758397341, 0.9...</td>\n",
       "      <td>[5765, 16977, 9089, 2, 2, 2, 2, 2, 2, 2, 2, 2,...</td>\n",
       "      <td>0</td>\n",
       "      <td>1</td>\n",
       "    </tr>\n",
       "    <tr>\n",
       "      <th>563</th>\n",
       "      <td>Who is the author of How It Happened?</td>\n",
       "      <td>[Arthur Conan Doyle, Sir Arthur Ignatius Conan...</td>\n",
       "      <td>Beecher</td>\n",
       "      <td>[0.3880562782, 0.7088989019, 0.9025917053, 0.7...</td>\n",
       "      <td>[1522, 29872, 4630, 2, 2, 2, 2, 2, 2, 2, 2, 2,...</td>\n",
       "      <td>0</td>\n",
       "      <td>1</td>\n",
       "    </tr>\n",
       "  </tbody>\n",
       "</table>\n",
       "</div>"
      ],
      "text/plain": [
       "                                                   q  \\\n",
       "169              What is the capital of Niger State?   \n",
       "376   Who was the director of The Call of the North?   \n",
       "177              Who is the author of STORI Telling?   \n",
       "25                         What genre is The Profit?   \n",
       "1545     What is Alexander Rinnooy Kan's occupation?   \n",
       "172                        Who is the author of Son?   \n",
       "24                 Who was the screenwriter for Run?   \n",
       "270             Who was the director of The Express?   \n",
       "1943           Who was the screenwriter for Amateur?   \n",
       "563            Who is the author of How It Happened?   \n",
       "\n",
       "                                                      a               pred  \\\n",
       "169                                             [Minna]              Abuja   \n",
       "376                                   [Joseph Henabery]     John Carpenter   \n",
       "177            [Tori Spelling, Victoria Davey Spelling]     Anita Brookner   \n",
       "25    [reality television, reality TV, reality telev...           Business   \n",
       "1545             [mathematician, economist, economists]          Professor   \n",
       "172   [Lois Lowry, Lois Ann Hammersberg, Lois James ...  Leonardo DiCaprio   \n",
       "24                                       [N. Lingusamy]     Chadwick Palin   \n",
       "270                                       [Gary Fleder]                N/A   \n",
       "1943                                      [Hal Hartley]     Michael Tolkin   \n",
       "563   [Arthur Conan Doyle, Sir Arthur Ignatius Conan...            Beecher   \n",
       "\n",
       "                                             pred_probs  \\\n",
       "169   [0.9738988876, 0.9999606609, 0.999994993200000...   \n",
       "376   [0.7305594683000001, 0.5430291295, 0.846736371...   \n",
       "177   [0.16245928410000002, 0.6809843183000001, 0.53...   \n",
       "25    [0.7998253107000001, 0.9574128389000001, 0.922...   \n",
       "1545  [0.4283296764, 0.9989406466, 0.5480271578, 0.9...   \n",
       "172   [0.2429920137, 0.9801318049000001, 0.947808742...   \n",
       "24    [0.6224936247, 0.3026275337, 0.2437361032, 0.2...   \n",
       "270   [0.2167109251, 0.6845143437, 0.5524267554, 0.9...   \n",
       "1943  [0.1343306601, 0.2178176045, 0.9758397341, 0.9...   \n",
       "563   [0.3880562782, 0.7088989019, 0.9025917053, 0.7...   \n",
       "\n",
       "                                               pred_gen  know  unknow  \n",
       "169   [1976, 29884, 1764, 2, 2, 2, 2, 2, 2, 2, 2, 2,...     0       1  \n",
       "376   [2259, 1704, 29886, 5893, 2, 2, 2, 2, 2, 2, 2,...     0       1  \n",
       "177   [530, 2028, 18737, 1089, 2, 2, 2, 2, 2, 2, 2, ...     0       1  \n",
       "25    [15197, 2, 2, 2, 2, 2, 2, 2, 2, 2, 2, 2, 2, 2, 2]     0       1  \n",
       "1545  [11386, 2, 2, 2, 2, 2, 2, 2, 2, 2, 2, 2, 2, 2, 2]     0       1  \n",
       "172   [10255, 6491, 4671, 12415, 5378, 2, 2, 2, 2, 2...     0       1  \n",
       "24    [678, 328, 6669, 3793, 262, 2, 2, 2, 2, 2, 2, ...     0       1  \n",
       "270   [405, 29914, 29909, 2, 2, 2, 2, 2, 2, 2, 2, 2,...     0       1  \n",
       "1943  [5765, 16977, 9089, 2, 2, 2, 2, 2, 2, 2, 2, 2,...     0       1  \n",
       "563   [1522, 29872, 4630, 2, 2, 2, 2, 2, 2, 2, 2, 2,...     0       1  "
      ]
     },
     "execution_count": 46,
     "metadata": {},
     "output_type": "execute_result"
    }
   ],
   "source": [
    "df[df['unknow']==1].sample(10)"
   ]
  },
  {
   "cell_type": "code",
   "execution_count": 3,
   "metadata": {},
   "outputs": [],
   "source": [
    "dft=gen_test_data('./data/nq-test.qa.csv')"
   ]
  },
  {
   "cell_type": "code",
   "execution_count": 31,
   "metadata": {},
   "outputs": [
    {
     "data": {
      "text/plain": [
       "'1996'"
      ]
     },
     "execution_count": 31,
     "metadata": {},
     "output_type": "execute_result"
    }
   ],
   "source": [
    "dft.iloc[0]['a'][0]"
   ]
  },
  {
   "cell_type": "code",
   "execution_count": 17,
   "metadata": {},
   "outputs": [],
   "source": [
    "df=pd.read_json('./data/trivia-train_preds.json')"
   ]
  },
  {
   "cell_type": "code",
   "execution_count": 18,
   "metadata": {},
   "outputs": [],
   "source": [
    "from transformers import AutoTokenizer\n",
    "tokenizer=AutoTokenizer.from_pretrained(model_path)"
   ]
  },
  {
   "cell_type": "code",
   "execution_count": null,
   "metadata": {},
   "outputs": [],
   "source": [
    "df_ids=gen_train_data_sup(df,tokenizer)"
   ]
  },
  {
   "cell_type": "code",
   "execution_count": 20,
   "metadata": {},
   "outputs": [],
   "source": [
    "df_ids.to_pickle('./train_ft.pkl')"
   ]
  },
  {
   "cell_type": "code",
   "execution_count": 21,
   "metadata": {},
   "outputs": [
    {
     "data": {
      "text/plain": [
       "(23631, 15)"
      ]
     },
     "execution_count": 21,
     "metadata": {},
     "output_type": "execute_result"
    }
   ],
   "source": [
    "df_ids.shape"
   ]
  },
  {
   "cell_type": "code",
   "execution_count": 22,
   "metadata": {},
   "outputs": [
    {
     "data": {
      "text/plain": [
       "'<s> [INST] <<SYS>>\\nAnswer the following questions. You should only output the answer, without any extra information or explanations. Do not repeat the question. If there are multiple answers, just output the most likely one. The answer should not be a sentence, just a phrase part of the answer.\\n<</SYS>>\\n\\nOf the 12 Winter Olympics between 1924 and 1976 inclusive, how many were held outside of Europe?\\nAnswer: [/INST]  Two</s></s></s></s></s></s></s></s></s></s></s></s></s></s></s></s></s></s></s></s></s></s></s></s></s></s></s></s></s></s></s></s></s></s></s></s></s></s></s></s></s></s></s></s></s></s></s></s></s></s></s></s></s></s></s></s></s></s></s></s></s></s></s></s></s></s></s></s></s></s></s></s></s></s></s></s></s></s></s></s></s></s></s></s></s></s></s></s></s></s></s></s></s></s></s></s></s></s></s></s></s></s></s></s></s></s></s></s></s></s></s></s></s></s></s></s></s></s></s></s></s></s></s></s></s></s></s></s></s>'"
      ]
     },
     "execution_count": 22,
     "metadata": {},
     "output_type": "execute_result"
    }
   ],
   "source": [
    "tokenizer.decode(df_ids.iloc[20000]['input_ids'])"
   ]
  },
  {
   "cell_type": "code",
   "execution_count": 23,
   "metadata": {},
   "outputs": [
    {
     "data": {
      "text/plain": [
       "(0, 15)"
      ]
     },
     "execution_count": 23,
     "metadata": {},
     "output_type": "execute_result"
    }
   ],
   "source": [
    "df_ids[df_ids['ids_len'].apply(lambda x:x>250)].shape"
   ]
  },
  {
   "cell_type": "code",
   "execution_count": null,
   "metadata": {},
   "outputs": [],
   "source": [
    "df_ids=gen_train_data_unsup(df,tokenizer,'pred_fprobs')"
   ]
  },
  {
   "cell_type": "code",
   "execution_count": 16,
   "metadata": {},
   "outputs": [],
   "source": [
    "df_ids.to_pickle('./train_unsup_f.pkl')"
   ]
  },
  {
   "cell_type": "code",
   "execution_count": 17,
   "metadata": {},
   "outputs": [
    {
     "data": {
      "text/plain": [
       "<Axes: >"
      ]
     },
     "execution_count": 17,
     "metadata": {},
     "output_type": "execute_result"
    },
    {
     "data": {
      "image/png": "[encoded data removed]",
      "text/plain": [
       "<Figure size 640x480 with 1 Axes>"
      ]
     },
     "metadata": {},
     "output_type": "display_data"
    }
   ],
   "source": [
    "df_ids[df_ids['trainset']=='unknow']['pred_fprobs'].hist()"
   ]
  },
  {
   "cell_type": "code",
   "execution_count": 18,
   "metadata": {},
   "outputs": [
    {
     "data": {
      "text/plain": [
       "(23634, 17)"
      ]
     },
     "execution_count": 18,
     "metadata": {},
     "output_type": "execute_result"
    }
   ],
   "source": [
    "df_ids.shape"
   ]
  },
  {
   "cell_type": "code",
   "execution_count": 19,
   "metadata": {},
   "outputs": [
    {
     "data": {
      "text/plain": [
       "\"<s> [INST] <<SYS>>\\nAnswer the following questions. You should only output the answer, without any extra information or explanations. Do not repeat the question. If there are multiple answers, just output the most likely one. The answer should not be a sentence, just a phrase part of the answer.\\n<</SYS>>\\n\\nFrom Latin, 'a spark', showy?\\nAnswer: [/INST]  Unknow</s></s></s></s></s></s></s></s></s></s></s></s></s></s></s></s></s></s></s></s></s></s></s></s></s></s></s></s></s></s></s></s></s></s></s></s></s></s></s></s></s></s></s></s></s></s></s></s></s></s></s></s></s></s></s></s></s></s></s></s></s></s></s></s></s></s></s></s></s></s></s></s></s></s></s></s></s></s></s></s></s></s></s></s></s></s></s></s></s></s></s></s></s></s></s></s></s></s></s></s></s></s></s></s></s></s></s></s></s></s></s></s></s></s></s></s></s></s></s></s></s></s></s></s></s></s></s></s></s></s></s></s></s></s></s></s></s></s></s></s></s></s></s></s></s></s>\""
      ]
     },
     "execution_count": 19,
     "metadata": {},
     "output_type": "execute_result"
    }
   ],
   "source": [
    "tokenizer.decode(df_ids.iloc[19000]['input_ids'])"
   ]
  },
  {
   "cell_type": "code",
   "execution_count": null,
   "metadata": {},
   "outputs": [],
   "source": [
    "df_ids=gen_train_data_unsup_con(df,tokenizer,'pred_fprobs')"
   ]
  },
  {
   "cell_type": "code",
   "execution_count": 21,
   "metadata": {},
   "outputs": [],
   "source": [
    "df_ids.to_pickle('./train_unsup_f_con.pkl')"
   ]
  },
  {
   "cell_type": "code",
   "execution_count": 22,
   "metadata": {},
   "outputs": [
    {
     "data": {
      "text/plain": [
       "(23634, 25)"
      ]
     },
     "execution_count": 22,
     "metadata": {},
     "output_type": "execute_result"
    }
   ],
   "source": [
    "df_ids.shape"
   ]
  },
  {
   "cell_type": "code",
   "execution_count": 14,
   "metadata": {},
   "outputs": [
    {
     "data": {
      "text/plain": [
       "\"<s> [INST] <<SYS>>\\nAre you sure that the answer to the following 'Q' is the following 'A'? If you are sure, output Sure, otherwise output Unsure, just say one word either Sure or Unsure\\n<</SYS>>\\n\\nQ: If you were celebrating your Sugar Wedding Anniversary for how many years would you have been married?\\nA: 5 years\\nOutput: [/INST]  Unsure</s></s></s></s></s></s></s></s></s></s></s></s></s></s></s></s></s></s></s></s></s></s></s></s></s></s></s></s></s></s></s></s></s></s></s></s></s></s></s></s></s></s></s></s></s></s></s></s></s></s></s></s></s></s></s></s></s></s></s></s></s></s></s></s></s></s></s></s></s></s></s></s></s></s></s></s></s></s></s></s></s></s></s></s></s></s></s></s></s></s></s></s></s></s></s></s></s></s></s></s></s></s></s></s></s></s></s></s>\""
      ]
     },
     "execution_count": 14,
     "metadata": {},
     "output_type": "execute_result"
    }
   ],
   "source": [
    "tokenizer.decode(df_ids.iloc[19000]['input_ids_post'])"
   ]
  },
  {
   "cell_type": "code",
   "execution_count": 4,
   "metadata": {},
   "outputs": [],
   "source": [
    "df=pd.read_json('./data/pop-test_preds.json')"
   ]
  },
  {
   "cell_type": "code",
   "execution_count": 5,
   "metadata": {},
   "outputs": [],
   "source": [
    "dft=pd.read_json('./data/trivia-train_preds.json')"
   ]
  },
  {
   "cell_type": "code",
   "execution_count": 24,
   "metadata": {},
   "outputs": [],
   "source": [
    "import pandas as pd\n",
    "df=pd.read_pickle('traindata/train_unsup_con.pkl')"
   ]
  },
  {
   "cell_type": "code",
   "execution_count": 25,
   "metadata": {},
   "outputs": [
    {
     "data": {
      "text/html": [
       "<div>\n",
       "<style scoped>\n",
       "    .dataframe tbody tr th:only-of-type {\n",
       "        vertical-align: middle;\n",
       "    }\n",
       "\n",
       "    .dataframe tbody tr th {\n",
       "        vertical-align: top;\n",
       "    }\n",
       "\n",
       "    .dataframe thead th {\n",
       "        text-align: right;\n",
       "    }\n",
       "</style>\n",
       "<table border=\"1\" class=\"dataframe\">\n",
       "  <thead>\n",
       "    <tr style=\"text-align: right;\">\n",
       "      <th></th>\n",
       "      <th>know</th>\n",
       "      <th>unknow</th>\n",
       "      <th>pred_minprobs</th>\n",
       "      <th>pred_fprobs</th>\n",
       "      <th>pred_sumprobs</th>\n",
       "      <th>ids_len</th>\n",
       "    </tr>\n",
       "  </thead>\n",
       "  <tbody>\n",
       "    <tr>\n",
       "      <th>count</th>\n",
       "      <td>23635.000000</td>\n",
       "      <td>23635.000000</td>\n",
       "      <td>23635.000000</td>\n",
       "      <td>23635.000000</td>\n",
       "      <td>23635.000000</td>\n",
       "      <td>23635.000000</td>\n",
       "    </tr>\n",
       "    <tr>\n",
       "      <th>mean</th>\n",
       "      <td>0.588576</td>\n",
       "      <td>0.411424</td>\n",
       "      <td>0.738914</td>\n",
       "      <td>0.780223</td>\n",
       "      <td>0.902238</td>\n",
       "      <td>104.066342</td>\n",
       "    </tr>\n",
       "    <tr>\n",
       "      <th>std</th>\n",
       "      <td>0.492102</td>\n",
       "      <td>0.492102</td>\n",
       "      <td>0.356721</td>\n",
       "      <td>0.327687</td>\n",
       "      <td>0.148282</td>\n",
       "      <td>10.726109</td>\n",
       "    </tr>\n",
       "    <tr>\n",
       "      <th>min</th>\n",
       "      <td>0.000000</td>\n",
       "      <td>0.000000</td>\n",
       "      <td>0.043392</td>\n",
       "      <td>0.053762</td>\n",
       "      <td>0.175020</td>\n",
       "      <td>88.000000</td>\n",
       "    </tr>\n",
       "    <tr>\n",
       "      <th>25%</th>\n",
       "      <td>0.000000</td>\n",
       "      <td>0.000000</td>\n",
       "      <td>0.290342</td>\n",
       "      <td>0.355057</td>\n",
       "      <td>0.805458</td>\n",
       "      <td>97.000000</td>\n",
       "    </tr>\n",
       "    <tr>\n",
       "      <th>50%</th>\n",
       "      <td>1.000000</td>\n",
       "      <td>0.000000</td>\n",
       "      <td>0.984025</td>\n",
       "      <td>0.990534</td>\n",
       "      <td>0.993860</td>\n",
       "      <td>102.000000</td>\n",
       "    </tr>\n",
       "    <tr>\n",
       "      <th>75%</th>\n",
       "      <td>1.000000</td>\n",
       "      <td>1.000000</td>\n",
       "      <td>0.994771</td>\n",
       "      <td>0.998788</td>\n",
       "      <td>0.997856</td>\n",
       "      <td>108.000000</td>\n",
       "    </tr>\n",
       "    <tr>\n",
       "      <th>max</th>\n",
       "      <td>1.000000</td>\n",
       "      <td>1.000000</td>\n",
       "      <td>0.999990</td>\n",
       "      <td>1.000000</td>\n",
       "      <td>0.999996</td>\n",
       "      <td>238.000000</td>\n",
       "    </tr>\n",
       "  </tbody>\n",
       "</table>\n",
       "</div>"
      ],
      "text/plain": [
       "               know        unknow  pred_minprobs   pred_fprobs  pred_sumprobs  \\\n",
       "count  23635.000000  23635.000000   23635.000000  23635.000000   23635.000000   \n",
       "mean       0.588576      0.411424       0.738914      0.780223       0.902238   \n",
       "std        0.492102      0.492102       0.356721      0.327687       0.148282   \n",
       "min        0.000000      0.000000       0.043392      0.053762       0.175020   \n",
       "25%        0.000000      0.000000       0.290342      0.355057       0.805458   \n",
       "50%        1.000000      0.000000       0.984025      0.990534       0.993860   \n",
       "75%        1.000000      1.000000       0.994771      0.998788       0.997856   \n",
       "max        1.000000      1.000000       0.999990      1.000000       0.999996   \n",
       "\n",
       "            ids_len  \n",
       "count  23635.000000  \n",
       "mean     104.066342  \n",
       "std       10.726109  \n",
       "min       88.000000  \n",
       "25%       97.000000  \n",
       "50%      102.000000  \n",
       "75%      108.000000  \n",
       "max      238.000000  "
      ]
     },
     "execution_count": 25,
     "metadata": {},
     "output_type": "execute_result"
    }
   ],
   "source": [
    "df.describe()"
   ]
  },
  {
   "cell_type": "code",
   "execution_count": 28,
   "metadata": {},
   "outputs": [
    {
     "data": {
      "text/plain": [
       "('[INST] <<SYS>>\\nAnswer the following questions. You should only output the answer, without any extra information or explanations. Do not repeat the question. If there are multiple answers, just output the most likely one. The answer should not be a sentence, just a phrase part of the answer.\\n<</SYS>>\\n\\nWhat is the chemical symbol for the element Mercury?\\nAnswer: [/INST] ',\n",
       " 'Hg',\n",
       " '[INST] <<SYS>>\\nDo you know the answer of the following question honestly? If you know, output Yes, otherwise output No, just say one word either Yes or No\\n<</SYS>>\\n\\nWhat is the chemical symbol for the element Mercury?\\nOutput: [/INST] ',\n",
       " 'Yes',\n",
       " \"[INST] <<SYS>>\\nAre you sure that the answer to the following 'Q' is the following 'A'? If you are sure, output Sure, otherwise output Unsure, just say one word either Sure or Unsure\\n<</SYS>>\\n\\nQ: What is the chemical symbol for the element Mercury?\\nA: Hg\\nOutput: [/INST] \",\n",
       " 'Sure')"
      ]
     },
     "execution_count": 28,
     "metadata": {},
     "output_type": "execute_result"
    }
   ],
   "source": [
    "df.iloc[0]['input_text'],df.iloc[0]['output_text'],df.iloc[0]['input_text_pre'],df.iloc[0]['output_text_pre'],df.iloc[0]['input_text_post'],df.iloc[0]['output_text_post']"
   ]
  }
 ],
 "metadata": {
  "kernelspec": {
   "display_name": "base",
   "language": "python",
   "name": "python3"
  },
  "language_info": {
   "codemirror_mode": {
    "name": "ipython",
    "version": 3
   },
   "file_extension": ".py",
   "mimetype": "text/x-python",
   "name": "python",
   "nbconvert_exporter": "python",
   "pygments_lexer": "ipython3",
   "version": "3.9.18"
  }
 },
 "nbformat": 4,
 "nbformat_minor": 2
}
